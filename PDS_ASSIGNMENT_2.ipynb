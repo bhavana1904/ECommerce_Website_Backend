{
  "nbformat": 4,
  "nbformat_minor": 0,
  "metadata": {
    "colab": {
      "provenance": [],
      "authorship_tag": "ABX9TyO0yvkrWu/L9XDAyahCHk4A",
      "include_colab_link": true
    },
    "kernelspec": {
      "name": "python3",
      "display_name": "Python 3"
    },
    "language_info": {
      "name": "python"
    }
  },
  "cells": [
    {
      "cell_type": "markdown",
      "metadata": {
        "id": "view-in-github",
        "colab_type": "text"
      },
      "source": [
        "<a href=\"https://colab.research.google.com/github/bhavana1904/ECommerce_Website_Backend/blob/main/PDS_ASSIGNMENT_2.ipynb\" target=\"_parent\"><img src=\"https://colab.research.google.com/assets/colab-badge.svg\" alt=\"Open In Colab\"/></a>"
      ]
    },
    {
      "cell_type": "code",
      "execution_count": 18,
      "metadata": {
        "colab": {
          "base_uri": "https://localhost:8080/"
        },
        "id": "UfASZAfU5FsP",
        "outputId": "f5b6e9d1-b8d3-44f7-def7-a9a4ea068643"
      },
      "outputs": [
        {
          "output_type": "stream",
          "name": "stdout",
          "text": [
            "Unnamed: 0              0\n",
            "Name                    0\n",
            "Location                0\n",
            "Year                    0\n",
            "Kilometers_Driven       0\n",
            "Fuel_Type               0\n",
            "Transmission            0\n",
            "Owner_Type              0\n",
            "Mileage                 2\n",
            "Engine                 36\n",
            "Power                  36\n",
            "Seats                  38\n",
            "New_Price            5032\n",
            "Price                   0\n",
            "dtype: int64\n"
          ]
        }
      ],
      "source": [
        "import pandas as pd\n",
        "import numpy as np\n",
        "data = pd.read_csv('/train.csv')\n",
        "missing_values = data.isnull().sum()\n",
        "print(missing_values)\n"
      ]
    },
    {
      "cell_type": "code",
      "source": [
        "data['Mileage'] = data['Mileage'].astype(str).str.replace(r' kmpl| km/kg', '', regex=True).astype(float)\n",
        "\n",
        "\n",
        "data['Engine'] = data['Engine'].astype(str).str.replace(' CC', '')\n",
        "data['Engine'] = data['Engine'].replace('nan', np.nan)  # Convert string 'nan' to actual NaN value\n",
        "data['Engine'] = data['Engine'].astype(float).fillna(0)  # Fill missing values with 0\n",
        "data['Engine'] = data['Engine'].astype(int)\n",
        "\n",
        "\n",
        "# Convert 'Power' column to string type and then replace units and convert to float\n",
        "data['Power'] = data['Power'].astype(str).str.replace(' bhp', '').astype(float)\n",
        "\n",
        "# Convert 'New_Price' column to string type and then replace units and convert to float\n",
        "data['New_Price'] = data['New_Price'].astype(str).str.replace(r' Lakh| Cr', '', regex=True).astype(float)\n",
        "\n",
        "# Display the updated DataFrame\n",
        "print(data.head())\n"
      ],
      "metadata": {
        "colab": {
          "base_uri": "https://localhost:8080/"
        },
        "id": "nwmlK3u17jNQ",
        "outputId": "5c1f0f90-d3d9-44a0-89f8-8c08899c0417"
      },
      "execution_count": 19,
      "outputs": [
        {
          "output_type": "stream",
          "name": "stdout",
          "text": [
            "   Unnamed: 0                              Name    Location  Year  \\\n",
            "0           1  Hyundai Creta 1.6 CRDi SX Option        Pune  2015   \n",
            "1           2                      Honda Jazz V     Chennai  2011   \n",
            "2           3                 Maruti Ertiga VDI     Chennai  2012   \n",
            "3           4   Audi A4 New 2.0 TDI Multitronic  Coimbatore  2013   \n",
            "4           6            Nissan Micra Diesel XV      Jaipur  2013   \n",
            "\n",
            "   Kilometers_Driven Fuel_Type Transmission Owner_Type  Mileage  Engine  \\\n",
            "0              41000    Diesel       Manual      First    19.67    1582   \n",
            "1              46000    Petrol       Manual      First    13.00    1199   \n",
            "2              87000    Diesel       Manual      First    20.77    1248   \n",
            "3              40670    Diesel    Automatic     Second    15.20    1968   \n",
            "4              86999    Diesel       Manual      First    23.08    1461   \n",
            "\n",
            "    Power  Seats  New_Price  Price  \n",
            "0  126.20    5.0        NaN  12.50  \n",
            "1   88.70    5.0       8.61   4.50  \n",
            "2   88.76    7.0        NaN   6.00  \n",
            "3  140.80    5.0        NaN  17.74  \n",
            "4   63.10    5.0        NaN   3.50  \n"
          ]
        }
      ]
    },
    {
      "cell_type": "code",
      "source": [
        "data = pd.get_dummies(data, columns=['Fuel_Type', 'Transmission'])\n",
        "\n",
        "# Display the updated DataFrame\n",
        "print(data.head())\n"
      ],
      "metadata": {
        "colab": {
          "base_uri": "https://localhost:8080/"
        },
        "id": "Hxv6dEccBcs3",
        "outputId": "b34fdf8e-e44b-4c34-e165-32cbd3571a1d"
      },
      "execution_count": 20,
      "outputs": [
        {
          "output_type": "stream",
          "name": "stdout",
          "text": [
            "   Unnamed: 0                              Name    Location  Year  \\\n",
            "0           1  Hyundai Creta 1.6 CRDi SX Option        Pune  2015   \n",
            "1           2                      Honda Jazz V     Chennai  2011   \n",
            "2           3                 Maruti Ertiga VDI     Chennai  2012   \n",
            "3           4   Audi A4 New 2.0 TDI Multitronic  Coimbatore  2013   \n",
            "4           6            Nissan Micra Diesel XV      Jaipur  2013   \n",
            "\n",
            "   Kilometers_Driven Owner_Type  Mileage  Engine   Power  Seats  New_Price  \\\n",
            "0              41000      First    19.67    1582  126.20    5.0        NaN   \n",
            "1              46000      First    13.00    1199   88.70    5.0       8.61   \n",
            "2              87000      First    20.77    1248   88.76    7.0        NaN   \n",
            "3              40670     Second    15.20    1968  140.80    5.0        NaN   \n",
            "4              86999      First    23.08    1461   63.10    5.0        NaN   \n",
            "\n",
            "   Price  Fuel_Type_Diesel  Fuel_Type_Electric  Fuel_Type_Petrol  \\\n",
            "0  12.50                 1                   0                 0   \n",
            "1   4.50                 0                   0                 1   \n",
            "2   6.00                 1                   0                 0   \n",
            "3  17.74                 1                   0                 0   \n",
            "4   3.50                 1                   0                 0   \n",
            "\n",
            "   Transmission_Automatic  Transmission_Manual  \n",
            "0                       0                    1  \n",
            "1                       0                    1  \n",
            "2                       0                    1  \n",
            "3                       1                    0  \n",
            "4                       0                    1  \n"
          ]
        }
      ]
    },
    {
      "cell_type": "code",
      "source": [
        "import pandas as pd\n",
        "from datetime import datetime\n",
        "\n",
        "current_year = datetime.now().year\n",
        "\n",
        "# Create a new column 'Current_Age' representing the current age of the car\n",
        "data['Current_Age'] = current_year - data['Year']\n",
        "\n",
        "# Display the updated DataFrame\n",
        "print(data.head())"
      ],
      "metadata": {
        "colab": {
          "base_uri": "https://localhost:8080/"
        },
        "id": "c8xiSyalCXmD",
        "outputId": "899671a5-24a2-49aa-fb58-5fb11122e5c2"
      },
      "execution_count": 22,
      "outputs": [
        {
          "output_type": "stream",
          "name": "stdout",
          "text": [
            "   Unnamed: 0                              Name    Location  Year  \\\n",
            "0           1  Hyundai Creta 1.6 CRDi SX Option        Pune  2015   \n",
            "1           2                      Honda Jazz V     Chennai  2011   \n",
            "2           3                 Maruti Ertiga VDI     Chennai  2012   \n",
            "3           4   Audi A4 New 2.0 TDI Multitronic  Coimbatore  2013   \n",
            "4           6            Nissan Micra Diesel XV      Jaipur  2013   \n",
            "\n",
            "   Kilometers_Driven Owner_Type  Mileage  Engine   Power  Seats  New_Price  \\\n",
            "0              41000      First    19.67    1582  126.20    5.0        NaN   \n",
            "1              46000      First    13.00    1199   88.70    5.0       8.61   \n",
            "2              87000      First    20.77    1248   88.76    7.0        NaN   \n",
            "3              40670     Second    15.20    1968  140.80    5.0        NaN   \n",
            "4              86999      First    23.08    1461   63.10    5.0        NaN   \n",
            "\n",
            "   Price  Fuel_Type_Diesel  Fuel_Type_Electric  Fuel_Type_Petrol  \\\n",
            "0  12.50                 1                   0                 0   \n",
            "1   4.50                 0                   0                 1   \n",
            "2   6.00                 1                   0                 0   \n",
            "3  17.74                 1                   0                 0   \n",
            "4   3.50                 1                   0                 0   \n",
            "\n",
            "   Transmission_Automatic  Transmission_Manual  Current_Age  \n",
            "0                       0                    1            9  \n",
            "1                       0                    1           13  \n",
            "2                       0                    1           12  \n",
            "3                       1                    0           11  \n",
            "4                       0                    1           11  \n"
          ]
        }
      ]
    },
    {
      "cell_type": "code",
      "source": [
        "selected_data = data[['Location', 'Year', 'Price']]\n",
        "print(selected_data)"
      ],
      "metadata": {
        "colab": {
          "base_uri": "https://localhost:8080/"
        },
        "id": "vZ17C1RvDUGU",
        "outputId": "bf66f8ff-9036-49fb-edd7-ca1283de1e2b"
      },
      "execution_count": 25,
      "outputs": [
        {
          "output_type": "stream",
          "name": "stdout",
          "text": [
            "        Location  Year  Price\n",
            "0           Pune  2015  12.50\n",
            "1        Chennai  2011   4.50\n",
            "2        Chennai  2012   6.00\n",
            "3     Coimbatore  2013  17.74\n",
            "4         Jaipur  2013   3.50\n",
            "...          ...   ...    ...\n",
            "5842       Delhi  2014   4.75\n",
            "5843      Jaipur  2015   4.00\n",
            "5844      Jaipur  2012   2.90\n",
            "5845     Kolkata  2013   2.65\n",
            "5846   Hyderabad  2011   2.50\n",
            "\n",
            "[5847 rows x 3 columns]\n"
          ]
        }
      ]
    },
    {
      "cell_type": "code",
      "source": [
        "filtered_data = data[data['Year'] > 2015]\n",
        "print(filtered_data)\n"
      ],
      "metadata": {
        "colab": {
          "base_uri": "https://localhost:8080/"
        },
        "id": "RlYv6VErDmdV",
        "outputId": "d875130a-eb6b-47e7-9a8f-ed0dad082a29"
      },
      "execution_count": 26,
      "outputs": [
        {
          "output_type": "stream",
          "name": "stdout",
          "text": [
            "      Unnamed: 0                               Name Location  Year  \\\n",
            "5              7  Toyota Innova Crysta 2.8 GX AT 8S   Mumbai  2016   \n",
            "8             10                   Maruti Ciaz Zeta    Kochi  2018   \n",
            "14            16              Honda Amaze S i-Dtech    Kochi  2016   \n",
            "15            17              Maruti Swift DDiS VDI   Jaipur  2017   \n",
            "26            28                Honda WRV i-VTEC VX    Kochi  2018   \n",
            "...          ...                                ...      ...   ...   \n",
            "5812        5982                      Tata Hexa XTA   Jaipur  2016   \n",
            "5816        5987         Tata Tiago 1.2 Revotron XT    Kochi  2017   \n",
            "5825        5996         Jaguar XF 2.2 Litre Luxury    Kochi  2016   \n",
            "5827        5999              Tata Bolt Revotron XT  Chennai  2016   \n",
            "5833        6005           Maruti Vitara Brezza VDi     Pune  2016   \n",
            "\n",
            "      Kilometers_Driven Owner_Type  Mileage  Engine   Power  Seats  New_Price  \\\n",
            "5                 36000      First    11.36    2755  171.50    8.0      21.00   \n",
            "8                 25692      First    21.56    1462  103.25    5.0      10.65   \n",
            "14                58950      First    25.80    1498   98.60    5.0        NaN   \n",
            "15                25000      First    28.40    1248   74.00    5.0        NaN   \n",
            "26                37430      First    17.50    1199   88.70    5.0      10.57   \n",
            "...                 ...        ...      ...     ...     ...    ...        ...   \n",
            "5812              39000      First    17.60    2179  153.86    7.0      21.00   \n",
            "5816              15386      First    23.84    1199   84.00    5.0       5.56   \n",
            "5825              31150      First    16.36    2179  187.70    5.0        NaN   \n",
            "5827              10000      First    17.57    1193   88.70    5.0       7.77   \n",
            "5833              37208      First    24.30    1248   88.50    5.0       9.93   \n",
            "\n",
            "      Price  Fuel_Type_Diesel  Fuel_Type_Electric  Fuel_Type_Petrol  \\\n",
            "5     17.50                 1                   0                 0   \n",
            "8      9.95                 0                   0                 1   \n",
            "14     5.40                 1                   0                 0   \n",
            "15     5.99                 1                   0                 0   \n",
            "26     9.90                 0                   0                 1   \n",
            "...     ...               ...                 ...               ...   \n",
            "5812  13.50                 1                   0                 0   \n",
            "5816   5.11                 0                   0                 1   \n",
            "5825  30.54                 1                   0                 0   \n",
            "5827   4.00                 0                   0                 1   \n",
            "5833   7.43                 1                   0                 0   \n",
            "\n",
            "      Transmission_Automatic  Transmission_Manual  Current_Age  \n",
            "5                          1                    0            8  \n",
            "8                          0                    1            6  \n",
            "14                         0                    1            8  \n",
            "15                         0                    1            7  \n",
            "26                         0                    1            6  \n",
            "...                      ...                  ...          ...  \n",
            "5812                       1                    0            8  \n",
            "5816                       0                    1            7  \n",
            "5825                       1                    0            8  \n",
            "5827                       0                    1            8  \n",
            "5833                       0                    1            8  \n",
            "\n",
            "[1711 rows x 18 columns]\n"
          ]
        }
      ]
    },
    {
      "cell_type": "code",
      "source": [
        "renamed_data = data.rename(columns={'Year': 'Manufracter', 'Power': 'Horsepower'})\n",
        "print(renamed_data)"
      ],
      "metadata": {
        "colab": {
          "base_uri": "https://localhost:8080/"
        },
        "id": "VtcBaMMxDsXj",
        "outputId": "80238168-d106-48f6-8e18-f4463762b6b2"
      },
      "execution_count": 28,
      "outputs": [
        {
          "output_type": "stream",
          "name": "stdout",
          "text": [
            "      Unnamed: 0                              Name    Location  Manufracter  \\\n",
            "0              1  Hyundai Creta 1.6 CRDi SX Option        Pune         2015   \n",
            "1              2                      Honda Jazz V     Chennai         2011   \n",
            "2              3                 Maruti Ertiga VDI     Chennai         2012   \n",
            "3              4   Audi A4 New 2.0 TDI Multitronic  Coimbatore         2013   \n",
            "4              6            Nissan Micra Diesel XV      Jaipur         2013   \n",
            "...          ...                               ...         ...          ...   \n",
            "5842        6014                  Maruti Swift VDI       Delhi         2014   \n",
            "5843        6015          Hyundai Xcent 1.1 CRDi S      Jaipur         2015   \n",
            "5844        6016             Mahindra Xylo D4 BSIV      Jaipur         2012   \n",
            "5845        6017                Maruti Wagon R VXI     Kolkata         2013   \n",
            "5846        6018             Chevrolet Beat Diesel   Hyderabad         2011   \n",
            "\n",
            "      Kilometers_Driven Owner_Type  Mileage  Engine  Horsepower  Seats  \\\n",
            "0                 41000      First    19.67    1582      126.20    5.0   \n",
            "1                 46000      First    13.00    1199       88.70    5.0   \n",
            "2                 87000      First    20.77    1248       88.76    7.0   \n",
            "3                 40670     Second    15.20    1968      140.80    5.0   \n",
            "4                 86999      First    23.08    1461       63.10    5.0   \n",
            "...                 ...        ...      ...     ...         ...    ...   \n",
            "5842              27365      First    28.40    1248       74.00    5.0   \n",
            "5843             100000      First    24.40    1120       71.00    5.0   \n",
            "5844              55000     Second    14.00    2498      112.00    8.0   \n",
            "5845              46000      First    18.90     998       67.10    5.0   \n",
            "5846              47000      First    25.44     936       57.60    5.0   \n",
            "\n",
            "      New_Price  Price  Fuel_Type_Diesel  Fuel_Type_Electric  \\\n",
            "0           NaN  12.50                 1                   0   \n",
            "1          8.61   4.50                 0                   0   \n",
            "2           NaN   6.00                 1                   0   \n",
            "3           NaN  17.74                 1                   0   \n",
            "4           NaN   3.50                 1                   0   \n",
            "...         ...    ...               ...                 ...   \n",
            "5842       7.88   4.75                 1                   0   \n",
            "5843        NaN   4.00                 1                   0   \n",
            "5844        NaN   2.90                 1                   0   \n",
            "5845        NaN   2.65                 0                   0   \n",
            "5846        NaN   2.50                 1                   0   \n",
            "\n",
            "      Fuel_Type_Petrol  Transmission_Automatic  Transmission_Manual  \\\n",
            "0                    0                       0                    1   \n",
            "1                    1                       0                    1   \n",
            "2                    0                       0                    1   \n",
            "3                    0                       1                    0   \n",
            "4                    0                       0                    1   \n",
            "...                ...                     ...                  ...   \n",
            "5842                 0                       0                    1   \n",
            "5843                 0                       0                    1   \n",
            "5844                 0                       0                    1   \n",
            "5845                 1                       0                    1   \n",
            "5846                 0                       0                    1   \n",
            "\n",
            "      Current_Age  \n",
            "0               9  \n",
            "1              13  \n",
            "2              12  \n",
            "3              11  \n",
            "4              11  \n",
            "...           ...  \n",
            "5842           10  \n",
            "5843            9  \n",
            "5844           12  \n",
            "5845           11  \n",
            "5846           13  \n",
            "\n",
            "[5847 rows x 18 columns]\n"
          ]
        }
      ]
    },
    {
      "cell_type": "code",
      "source": [
        "mutated_dated = 2024 - data['Year']\n",
        "print(mutated_dated)"
      ],
      "metadata": {
        "colab": {
          "base_uri": "https://localhost:8080/"
        },
        "id": "naxakLp5EwRM",
        "outputId": "7a35df38-47d0-4ca3-b086-4c31d91454ad"
      },
      "execution_count": 32,
      "outputs": [
        {
          "output_type": "stream",
          "name": "stdout",
          "text": [
            "0        9\n",
            "1       13\n",
            "2       12\n",
            "3       11\n",
            "4       11\n",
            "        ..\n",
            "5842    10\n",
            "5843     9\n",
            "5844    12\n",
            "5845    11\n",
            "5846    13\n",
            "Name: Year, Length: 5847, dtype: int64\n"
          ]
        }
      ]
    },
    {
      "cell_type": "code",
      "source": [
        "sorted_data = data.sort_values(by='Price', ascending=False)\n",
        "print(sorted_data)"
      ],
      "metadata": {
        "colab": {
          "base_uri": "https://localhost:8080/"
        },
        "id": "4LgyjUn4FMGk",
        "outputId": "ab07d8dc-61ec-45be-cff5-a357ccdc8bf1"
      },
      "execution_count": 33,
      "outputs": [
        {
          "output_type": "stream",
          "name": "stdout",
          "text": [
            "      Unnamed: 0                                         Name    Location  \\\n",
            "3952        4079  Land Rover Range Rover 3.0 Diesel LWB Vogue   Hyderabad   \n",
            "5620        5781                   Lamborghini Gallardo Coupe       Delhi   \n",
            "5752        5919                       Jaguar F Type 5.0 V8 S   Hyderabad   \n",
            "1457        1505              Land Rover Range Rover Sport SE       Kochi   \n",
            "1917        1974                           BMW 7 Series 740Li  Coimbatore   \n",
            "...          ...                                          ...         ...   \n",
            "3127        3228                               Maruti 800 Std        Pune   \n",
            "2758        2847                             Hyundai Getz GLS        Pune   \n",
            "3039        3138                               Maruti Zen LXI      Jaipur   \n",
            "1577        1628                         Maruti 800 Std BSIII      Jaipur   \n",
            "1660        1713                                 Tata Nano Lx        Pune   \n",
            "\n",
            "      Year  Kilometers_Driven Owner_Type  Mileage  Engine  Power  Seats  \\\n",
            "3952  2017              25000      First    13.33    2993  255.0    5.0   \n",
            "5620  2011               6500      Third     6.40    5204  560.0    2.0   \n",
            "5752  2015               8000      First    12.50    5000  488.1    2.0   \n",
            "1457  2019              26013      First    12.65    2993  255.0    5.0   \n",
            "1917  2018              28060      First    12.05    2979  320.0    5.0   \n",
            "...    ...                ...        ...      ...     ...    ...    ...   \n",
            "3127  2003              52000      First    16.10     796   37.0    4.0   \n",
            "2758  2005              86000     Second    15.30    1341   83.0    5.0   \n",
            "3039  1998              95150      Third    17.30     993   60.0    5.0   \n",
            "1577  2004              12000     Second    16.10     796   37.0    4.0   \n",
            "1660  2011              65000     Second    26.00     624   35.0    4.0   \n",
            "\n",
            "      New_Price   Price  Fuel_Type_Diesel  Fuel_Type_Electric  \\\n",
            "3952       2.30  160.00                 1                   0   \n",
            "5620        NaN  120.00                 0                   0   \n",
            "5752        NaN  100.00                 0                   0   \n",
            "1457       1.39   97.07                 1                   0   \n",
            "1917        NaN   93.67                 0                   0   \n",
            "...         ...     ...               ...                 ...   \n",
            "3127        NaN    0.50                 0                   0   \n",
            "2758        NaN    0.45                 0                   0   \n",
            "3039        NaN    0.45                 0                   0   \n",
            "1577        NaN    0.45                 0                   0   \n",
            "1660        NaN    0.44                 0                   0   \n",
            "\n",
            "      Fuel_Type_Petrol  Transmission_Automatic  Transmission_Manual  \\\n",
            "3952                 0                       1                    0   \n",
            "5620                 1                       1                    0   \n",
            "5752                 1                       1                    0   \n",
            "1457                 0                       1                    0   \n",
            "1917                 1                       1                    0   \n",
            "...                ...                     ...                  ...   \n",
            "3127                 1                       0                    1   \n",
            "2758                 1                       0                    1   \n",
            "3039                 1                       0                    1   \n",
            "1577                 1                       0                    1   \n",
            "1660                 1                       0                    1   \n",
            "\n",
            "      Current_Age  Age  \n",
            "3952            7    7  \n",
            "5620           13   13  \n",
            "5752            9    9  \n",
            "1457            5    5  \n",
            "1917            6    6  \n",
            "...           ...  ...  \n",
            "3127           21   21  \n",
            "2758           19   19  \n",
            "3039           26   26  \n",
            "1577           20   20  \n",
            "1660           13   13  \n",
            "\n",
            "[5847 rows x 19 columns]\n"
          ]
        }
      ]
    },
    {
      "cell_type": "code",
      "source": [
        "average_price_by_model = data.groupby('Year')['Price'].mean().reset_index()\n",
        "print(average_price_by_model)"
      ],
      "metadata": {
        "colab": {
          "base_uri": "https://localhost:8080/"
        },
        "id": "me5SyyYFFTkM",
        "outputId": "18599a6e-83c4-4d62-f868-cc91db53203c"
      },
      "execution_count": 35,
      "outputs": [
        {
          "output_type": "stream",
          "name": "stdout",
          "text": [
            "    Year      Price\n",
            "0   1998   1.626667\n",
            "1   1999   0.835000\n",
            "2   2000   1.175000\n",
            "3   2001   0.920000\n",
            "4   2002   1.321667\n",
            "5   2003   2.548750\n",
            "6   2004   1.990000\n",
            "7   2005   2.262955\n",
            "8   2006   3.596377\n",
            "9   2007   3.427830\n",
            "10  2008   4.051227\n",
            "11  2009   5.246269\n",
            "12  2010   5.477970\n",
            "13  2011   6.813341\n",
            "14  2012   7.460699\n",
            "15  2013   8.835800\n",
            "16  2014   9.742462\n",
            "17  2015  11.316962\n",
            "18  2016  11.776798\n",
            "19  2017  13.831735\n",
            "20  2018  15.884558\n",
            "21  2019  19.603564\n"
          ]
        }
      ]
    }
  ]
}